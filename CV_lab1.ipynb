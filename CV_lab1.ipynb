{
 "cells": [
  {
   "cell_type": "markdown",
   "id": "f6c134d0",
   "metadata": {},
   "source": [
    "Info:  \n",
    "Used dataset : https://www.kaggle.com/jessicali9530/celeba-dataset  \n",
    "Used face detection model is from : https://github.com/opencv/opencv.git"
   ]
  },
  {
   "cell_type": "markdown",
   "id": "2964616a",
   "metadata": {},
   "source": [
    "## Part 1. Face Detection"
   ]
  },
  {
   "cell_type": "markdown",
   "id": "7310a7ad",
   "metadata": {},
   "source": [
    "> First of all, we need to import all necessary libraries"
   ]
  },
  {
   "cell_type": "code",
   "execution_count": 37,
   "id": "8bf17794",
   "metadata": {},
   "outputs": [],
   "source": [
    "import tensorflow as tf\n",
    "from tensorflow import keras\n",
    "import numpy as np\n",
    "import matplotlib.pyplot as plt\n",
    "from pathlib import Path\n",
    "import cv2\n",
    "import os\n",
    "import sys\n",
    "import glob"
   ]
  },
  {
   "cell_type": "markdown",
   "id": "6fec0ed9",
   "metadata": {},
   "source": [
    "> Let's specify image folder"
   ]
  },
  {
   "cell_type": "code",
   "execution_count": 38,
   "id": "901eb3f6",
   "metadata": {},
   "outputs": [],
   "source": [
    "DATA_FOLDER = \"C:/Users/Kate/Documents/datasets/archive/img_align_celeba/img_align_celeba\""
   ]
  },
  {
   "cell_type": "markdown",
   "id": "0693ee67",
   "metadata": {},
   "source": [
    "> With the following code block you can look through all dataset images or some subset of them"
   ]
  },
  {
   "cell_type": "code",
   "execution_count": 39,
   "id": "b57c64fd",
   "metadata": {},
   "outputs": [],
   "source": [
    "num = 0\n",
    "# read and show all images\n",
    "for imag in glob.iglob(f'{DATA_FOLDER}/*.jpg'):\n",
    "    #print(imag)\n",
    "    img = cv2.imread(imag)\n",
    "    if img is None:\n",
    "        print(\"An error has occured.\")\n",
    "        sys.exit(\"Could not read the image.\")\n",
    "    cv2.imshow(\"Display window\",img)  \n",
    "    cv2.waitKey(0)\n",
    "    cv2.destroyAllWindows()\n",
    "    break\n",
    "    # num += 1\n",
    "    # if num > 6:\n",
    "    #    break"
   ]
  },
  {
   "cell_type": "markdown",
   "id": "c099cd98",
   "metadata": {},
   "source": [
    "> Let's choose an image to use detection model on"
   ]
  },
  {
   "cell_type": "code",
   "execution_count": 40,
   "id": "6f10fbe1",
   "metadata": {},
   "outputs": [],
   "source": [
    "work_img_path = DATA_FOLDER + '/000816.jpg'"
   ]
  },
  {
   "cell_type": "code",
   "execution_count": 41,
   "id": "918e7833",
   "metadata": {},
   "outputs": [],
   "source": [
    "work_img = cv2.imread(work_img_path)\n",
    "if work_img is None:\n",
    "        print(\"An error has occured.\")\n",
    "        sys.exit(\"Could not read the image.\")\n",
    "tmp_image = work_img.copy()"
   ]
  },
  {
   "cell_type": "markdown",
   "id": "dedc22e5",
   "metadata": {},
   "source": [
    "> We need to convert it to grayscale for algorithm to be able to work"
   ]
  },
  {
   "cell_type": "code",
   "execution_count": 42,
   "id": "b24927b1",
   "metadata": {},
   "outputs": [],
   "source": [
    "gray = cv2.cvtColor(work_img, cv2.COLOR_BGR2GRAY)"
   ]
  },
  {
   "cell_type": "markdown",
   "id": "7150dca6",
   "metadata": {},
   "source": [
    "> Face detection on grayscalre version of an image.\n",
    "  Then showing (highliting with a rectangular frame) on an original image \n",
    "  the area which represents the face in algorithm's opinion "
   ]
  },
  {
   "cell_type": "code",
   "execution_count": 43,
   "id": "c684f4b8",
   "metadata": {},
   "outputs": [],
   "source": [
    "face_cascade = cv2.CascadeClassifier('haarcascade_frontalface_default.xml')"
   ]
  },
  {
   "cell_type": "code",
   "execution_count": 44,
   "id": "e87846ef",
   "metadata": {},
   "outputs": [],
   "source": [
    "faces = face_cascade.detectMultiScale(gray, 1.1, 4)"
   ]
  },
  {
   "cell_type": "code",
   "execution_count": 45,
   "id": "29b61e13",
   "metadata": {},
   "outputs": [],
   "source": [
    "X = 0\n",
    "Y = 0\n",
    "W = 0\n",
    "H = 0\n",
    "for (x, y, w, h) in faces:\n",
    "    X = x\n",
    "    Y = y\n",
    "    W = w\n",
    "    H = h\n",
    "    cv2.rectangle(tmp_image, (x, y), (x+w, y+h), (255, 0, 0), 2)"
   ]
  },
  {
   "cell_type": "code",
   "execution_count": 46,
   "id": "d8c2e5f9",
   "metadata": {},
   "outputs": [],
   "source": [
    "cv2.imshow('img', tmp_image)\n",
    "cv2.waitKey()\n",
    "cv2.destroyAllWindows()"
   ]
  },
  {
   "cell_type": "markdown",
   "id": "08faa59b",
   "metadata": {},
   "source": [
    "## Part 2. Crop image and get binary border image"
   ]
  },
  {
   "cell_type": "markdown",
   "id": "d708e354",
   "metadata": {},
   "source": [
    "> Creating cropped image"
   ]
  },
  {
   "cell_type": "code",
   "execution_count": 47,
   "id": "5bf48443",
   "metadata": {},
   "outputs": [],
   "source": [
    "crop_img = work_img[-Y-H-(int)((Y+H)*0.1):Y+H+(int)((Y+H)*0.1), -X-W-(int)((X+W)*0.1):X+W+(int)((X+W)*0.1)]"
   ]
  },
  {
   "cell_type": "code",
   "execution_count": 48,
   "id": "deba5f7b",
   "metadata": {},
   "outputs": [
    {
     "data": {
      "text/plain": [
       "True"
      ]
     },
     "execution_count": 48,
     "metadata": {},
     "output_type": "execute_result"
    }
   ],
   "source": [
    "cv2.imwrite('C:/Users/Kate/Desktop/cropped.jpg', crop_img)"
   ]
  },
  {
   "cell_type": "code",
   "execution_count": 49,
   "id": "fa2ed872",
   "metadata": {},
   "outputs": [],
   "source": [
    "cv2.imshow('img', crop_img)\n",
    "cv2.waitKey()\n",
    "cv2.destroyAllWindows()"
   ]
  },
  {
   "cell_type": "markdown",
   "id": "cea00cea",
   "metadata": {},
   "source": [
    "> Edge detector"
   ]
  },
  {
   "cell_type": "code",
   "execution_count": 50,
   "id": "24bec66d",
   "metadata": {},
   "outputs": [],
   "source": [
    "from __future__ import print_function\n",
    "import cv2 as cv\n",
    "import argparse"
   ]
  },
  {
   "cell_type": "code",
   "execution_count": 51,
   "id": "c683cced",
   "metadata": {},
   "outputs": [],
   "source": [
    "path_to_cropped = 'C:/Users/Kate/Desktop/cropped.jpg'"
   ]
  },
  {
   "cell_type": "code",
   "execution_count": 52,
   "id": "b60a0e7e",
   "metadata": {},
   "outputs": [],
   "source": [
    "max_lowThreshold = 100\n",
    "window_name = 'Edge Map'\n",
    "title_trackbar = 'Min Threshold:'\n",
    "ratio = 3\n",
    "kernel_size = 3"
   ]
  },
  {
   "cell_type": "code",
   "execution_count": 53,
   "id": "e0862ba8",
   "metadata": {},
   "outputs": [],
   "source": [
    "def CannyThreshold(val):\n",
    "    low_threshold = val\n",
    "    img_blur = cv.blur(src_gray, (3,3))\n",
    "    detected_edges = cv.Canny(img_blur, low_threshold, low_threshold*ratio, kernel_size)\n",
    "    mask = detected_edges != 0\n",
    "    dst = src * (mask[:,:,None].astype(src.dtype))\n",
    "    cv.imshow(window_name, dst)"
   ]
  },
  {
   "cell_type": "code",
   "execution_count": 54,
   "id": "9b6a1d11",
   "metadata": {},
   "outputs": [],
   "source": [
    "src = cv.imread(path_to_cropped)\n",
    "if src is None:\n",
    "    print('Could not open or find the image: ', path_to_cropped)\n",
    "    exit(0)\n",
    "src_gray = cv.cvtColor(src, cv.COLOR_BGR2GRAY)\n",
    "cv.namedWindow(window_name)\n",
    "cv.createTrackbar(title_trackbar, window_name , 0, max_lowThreshold, CannyThreshold)\n",
    "th = CannyThreshold(23)\n",
    "cv.waitKey()\n",
    "cv.destroyAllWindows()"
   ]
  },
  {
   "cell_type": "markdown",
   "id": "229ae9d2",
   "metadata": {},
   "source": [
    "> Morph growth"
   ]
  },
  {
   "cell_type": "code",
   "execution_count": 55,
   "id": "9ae32225",
   "metadata": {},
   "outputs": [],
   "source": [
    "work_img = cv2.imread(path_to_cropped)\n",
    "ret, th = cv2.threshold(src_gray, 0, 255, cv2.THRESH_OTSU)"
   ]
  },
  {
   "cell_type": "code",
   "execution_count": 56,
   "id": "dbbae191",
   "metadata": {},
   "outputs": [],
   "source": [
    "npKernel = np.uint8(np.zeros((5, 5)))\n",
    "for i in range(5):\n",
    "    npKernel[2, i] = 1\n",
    "    npKernel[i, 2] = 1"
   ]
  },
  {
   "cell_type": "code",
   "execution_count": 57,
   "id": "b28f7e10",
   "metadata": {},
   "outputs": [],
   "source": [
    "kernel = cv2.getStructuringElement(cv2.MORPH_RECT, (5, 5))"
   ]
  },
  {
   "cell_type": "code",
   "execution_count": 58,
   "id": "9dcee0a3",
   "metadata": {},
   "outputs": [],
   "source": [
    "npKernel_dilated = cv2.dilate(th, npKernel)\n",
    "kernel_dilated = cv2.dilate(th, kernel)"
   ]
  },
  {
   "cell_type": "code",
   "execution_count": 59,
   "id": "63bd2994",
   "metadata": {},
   "outputs": [],
   "source": [
    "cv2.imshow('img', th)\n",
    "#cv2.imshow('npKernel Dilated Image', npKernel_dilated)\n",
    "#cv2.imshow('kernel Dilated Image', kernel_dilated)\n",
    "cv2.waitKey(0)\n",
    "cv2.destroyAllWindows()"
   ]
  },
  {
   "cell_type": "code",
   "execution_count": null,
   "id": "00a4c4eb",
   "metadata": {},
   "outputs": [],
   "source": []
  },
  {
   "cell_type": "code",
   "execution_count": 60,
   "id": "87ccc094",
   "metadata": {},
   "outputs": [],
   "source": [
    "dst = cv.GaussianBlur(th,(5,5),cv2.BORDER_DEFAULT)"
   ]
  },
  {
   "cell_type": "code",
   "execution_count": 61,
   "id": "afa3191d",
   "metadata": {},
   "outputs": [
    {
     "data": {
      "image/png": "[encoded data removed]",
      "text/plain": [
       "<Figure size 432x288 with 2 Axes>"
      ]
     },
     "metadata": {},
     "output_type": "display_data"
    }
   ],
   "source": [
    "\n",
    "plt.subplot(121),plt.imshow(th),plt.title('Original')\n",
    "plt.xticks([]), plt.yticks([])\n",
    "\n",
    "plt.subplot(122),plt.imshow(dst),plt.title('Averaging')\n",
    "plt.xticks([]), plt.yticks([])\n",
    "plt.show()"
   ]
  },
  {
   "cell_type": "code",
   "execution_count": 62,
   "id": "0219414d",
   "metadata": {},
   "outputs": [],
   "source": [
    "cv.normalize(dst, dst, 0, 255, cv.NORM_MINMAX)\n",
    "\n",
    "cv.imshow('dst_rt', dst)\n",
    "cv.waitKey(0)\n",
    "cv.destroyAllWindows()"
   ]
  },
  {
   "cell_type": "code",
   "execution_count": 63,
   "id": "bb91aa5d",
   "metadata": {},
   "outputs": [],
   "source": [
    "MAX_KERNEL_LENGTH = 31\n",
    "src = work_img\n",
    "dst = None"
   ]
  },
  {
   "cell_type": "code",
   "execution_count": 64,
   "id": "16830b12",
   "metadata": {},
   "outputs": [],
   "source": [
    "for i in range(1, MAX_KERNEL_LENGTH, 2):\n",
    "        dst = cv.bilateralFilter(src, i, i * 2, i / 2)"
   ]
  },
  {
   "cell_type": "code",
   "execution_count": 65,
   "id": "ce500263",
   "metadata": {},
   "outputs": [],
   "source": [
    "cv.imshow('Bilateral', dst)\n",
    "cv.waitKey(0)\n",
    "cv.destroyAllWindows()"
   ]
  },
  {
   "cell_type": "code",
   "execution_count": 66,
   "id": "26a9ba7b",
   "metadata": {},
   "outputs": [],
   "source": [
    "#-----Converting image to LAB Color model----------------------------------- \n",
    "lab= cv2.cvtColor(work_img, cv2.COLOR_BGR2LAB)\n",
    "cv2.imshow(\"lab\",lab)\n",
    "cv.waitKey(0)\n",
    "cv.destroyAllWindows()"
   ]
  },
  {
   "cell_type": "code",
   "execution_count": 67,
   "id": "f4a02b9c",
   "metadata": {},
   "outputs": [],
   "source": [
    "#-----Splitting the LAB image to different channels-------------------------\n",
    "l, a, b = cv2.split(lab)\n",
    "cv2.imshow('l_channel', l)\n",
    "cv2.imshow('a_channel', a)\n",
    "cv2.imshow('b_channel', b)\n",
    "cv.waitKey(0)\n",
    "cv.destroyAllWindows()"
   ]
  },
  {
   "cell_type": "code",
   "execution_count": 68,
   "id": "8330f88b",
   "metadata": {},
   "outputs": [],
   "source": [
    "#-----Applying CLAHE to L-channel-------------------------------------------\n",
    "clahe = cv2.createCLAHE(clipLimit=3.0, tileGridSize=(3,3))\n",
    "cl = clahe.apply(l)\n",
    "cv2.imshow('CLAHE output', cl)\n",
    "cv.waitKey(0)\n",
    "cv.destroyAllWindows()"
   ]
  },
  {
   "cell_type": "code",
   "execution_count": 69,
   "id": "5a950fa6",
   "metadata": {},
   "outputs": [],
   "source": [
    "#-----Merge the CLAHE enhanced L-channel with the a and b channel-----------\n",
    "limg = cv2.merge((cl,a,b))\n",
    "cv2.imshow('limg', limg)\n",
    "cv.waitKey(0)\n",
    "cv.destroyAllWindows()"
   ]
  },
  {
   "cell_type": "code",
   "execution_count": 70,
   "id": "d1c193ea",
   "metadata": {},
   "outputs": [],
   "source": [
    "#-----Converting image from LAB Color model to RGB model--------------------\n",
    "final = cv2.cvtColor(limg, cv2.COLOR_LAB2BGR)\n",
    "cv2.imshow('final', final)\n",
    "cv.waitKey(0)\n",
    "cv.destroyAllWindows()"
   ]
  },
  {
   "cell_type": "markdown",
   "id": "4e060ef9",
   "metadata": {},
   "source": [
    "> Perform calculations:\n",
    "    $ Result[x,y,c] = M[x,y]*F2[x,y,c]+(1-M[x,y])*F1[x,y,c] $  \n",
    "    x = 1,.., width  \n",
    "    y = 1,.., height  \n",
    "    c = 1,..,3"
   ]
  },
  {
   "cell_type": "code",
   "execution_count": 71,
   "id": "cda4898c",
   "metadata": {},
   "outputs": [],
   "source": [
    "# M[x,y]\n",
    "img = final\n",
    "dst = None\n",
    "dst = cv.normalize(img, 0, 255, cv.NORM_MINMAX)"
   ]
  },
  {
   "cell_type": "code",
   "execution_count": 72,
   "id": "905f1f50",
   "metadata": {},
   "outputs": [],
   "source": [
    "cv2.imshow('final', dst)\n",
    "cv.waitKey(0)\n",
    "cv.destroyAllWindows()"
   ]
  },
  {
   "cell_type": "code",
   "execution_count": 73,
   "id": "05278225",
   "metadata": {},
   "outputs": [],
   "source": [
    "#F2[x,y,c]\n",
    "MAX_KERNEL_LENGTH = 3\n",
    "src = work_img\n",
    "dst2 = None\n",
    "\n",
    "for i in range(1, MAX_KERNEL_LENGTH):\n",
    "        dst2 = cv.bilateralFilter(src, i, i * 2, i / 2)"
   ]
  },
  {
   "cell_type": "code",
   "execution_count": 74,
   "id": "c3585888",
   "metadata": {},
   "outputs": [],
   "source": [
    "#F1[x,y,c]\n",
    "#-----Converting image to LAB Color model----------------------------------- \n",
    "lab= cv2.cvtColor(work_img, cv2.COLOR_BGR2LAB)\n",
    "\n",
    "#-----Splitting the LAB image to different channels-------------------------\n",
    "l, a, b = cv2.split(lab)\n",
    "\n",
    "#-----Applying CLAHE to L-channel-------------------------------------------\n",
    "clahe = cv2.createCLAHE(clipLimit=3.0, tileGridSize=(8,8))\n",
    "cl = clahe.apply(l)\n",
    "\n",
    "#-----Merge the CLAHE enhanced L-channel with the a and b channel-----------\n",
    "limg = cv2.merge((cl,a,b))\n",
    "\n",
    "#-----Converting image from LAB Color model to RGB model--------------------\n",
    "final = cv2.cvtColor(limg, cv2.COLOR_LAB2BGR)"
   ]
  },
  {
   "cell_type": "code",
   "execution_count": 75,
   "id": "16fbfd93",
   "metadata": {},
   "outputs": [],
   "source": [
    "#-----Converting image to LAB Color model----------------------------------- \n",
    "lab= cv2.cvtColor(final, cv2.COLOR_BGR2LAB)\n",
    "\n",
    "#-----Splitting the LAB image to different channels-------------------------\n",
    "l, a, b = cv2.split(lab)\n",
    "\n",
    "#-----Applying CLAHE to L-channel-------------------------------------------\n",
    "clahe = cv2.createCLAHE(clipLimit=3.0, tileGridSize=(8,8))\n",
    "cl = clahe.apply(a)\n",
    "\n",
    "#-----Merge the CLAHE enhanced L-channel with the a and b channel-----------\n",
    "limg = cv2.merge((cl,a,b))\n",
    "\n",
    "#-----Converting image from LAB Color model to RGB model--------------------\n",
    "final = cv2.cvtColor(limg, cv2.COLOR_LAB2BGR)"
   ]
  },
  {
   "cell_type": "code",
   "execution_count": 76,
   "id": "a472ddde",
   "metadata": {},
   "outputs": [],
   "source": [
    "#-----Converting image to LAB Color model----------------------------------- \n",
    "lab= cv2.cvtColor(final, cv2.COLOR_BGR2LAB)\n",
    "\n",
    "#-----Splitting the LAB image to different channels-------------------------\n",
    "l, a, b = cv2.split(lab)\n",
    "\n",
    "#-----Applying CLAHE to L-channel-------------------------------------------\n",
    "clahe = cv2.createCLAHE(clipLimit=3.0, tileGridSize=(8,8))\n",
    "cl = clahe.apply(b)\n",
    "\n",
    "#-----Merge the CLAHE enhanced L-channel with the a and b channel-----------\n",
    "limg = cv2.merge((cl,a,b))\n",
    "\n",
    "#-----Converting image from LAB Color model to RGB model--------------------\n",
    "final = cv2.cvtColor(limg, cv2.COLOR_LAB2BGR)"
   ]
  },
  {
   "cell_type": "code",
   "execution_count": 77,
   "id": "60792ab4",
   "metadata": {},
   "outputs": [],
   "source": [
    "result_tmp = dst*final\n",
    "result = result_tmp + (1-dst)*dst2"
   ]
  },
  {
   "cell_type": "code",
   "execution_count": 78,
   "id": "19a94b83",
   "metadata": {},
   "outputs": [],
   "source": [
    "cv2.imshow('final', final)\n",
    "cv.waitKey(0)\n",
    "cv.destroyAllWindows()"
   ]
  },
  {
   "cell_type": "code",
   "execution_count": null,
   "id": "3e026130",
   "metadata": {},
   "outputs": [],
   "source": []
  }
 ],
 "metadata": {
  "kernelspec": {
   "display_name": "Python 3",
   "language": "python",
   "name": "python3"
  },
  "language_info": {
   "codemirror_mode": {
    "name": "ipython",
    "version": 3
   },
   "file_extension": ".py",
   "mimetype": "text/x-python",
   "name": "python",
   "nbconvert_exporter": "python",
   "pygments_lexer": "ipython3",
   "version": "3.8.10"
  }
 },
 "nbformat": 4,
 "nbformat_minor": 5
}
