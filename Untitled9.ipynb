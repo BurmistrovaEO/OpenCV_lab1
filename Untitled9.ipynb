{
 "cells": [
  {
   "cell_type": "markdown",
   "id": "f6c134d0",
   "metadata": {},
   "source": [
    "Info:\n",
    "Used dataset : https://www.kaggle.com/jessicali9530/celeba-dataset\n",
    "Used face detection model is from : https://github.com/opencv/opencv.git "
   ]
  },
  {
   "cell_type": "markdown",
   "id": "2964616a",
   "metadata": {},
   "source": [
    "## Part 1. Face Detection"
   ]
  },
  {
   "cell_type": "markdown",
   "id": "7310a7ad",
   "metadata": {},
   "source": [
    "> First of all, we need to import all necessary libraries"
   ]
  },
  {
   "cell_type": "code",
   "execution_count": 64,
   "id": "8bf17794",
   "metadata": {},
   "outputs": [],
   "source": [
    "import tensorflow as tf\n",
    "from tensorflow import keras\n",
    "import numpy as np\n",
    "import matplotlib.pyplot as plt\n",
    "from pathlib import Path\n",
    "import cv2\n",
    "import os\n",
    "import sys\n",
    "import glob"
   ]
  },
  {
   "cell_type": "markdown",
   "id": "6fec0ed9",
   "metadata": {},
   "source": [
    "> Let's specify image folder"
   ]
  },
  {
   "cell_type": "code",
   "execution_count": 67,
   "id": "901eb3f6",
   "metadata": {},
   "outputs": [],
   "source": [
    "DATA_FOLDER = \"C:/Users/Kate/Documents/datasets/archive/img_align_celeba/img_align_celeba\""
   ]
  },
  {
   "cell_type": "markdown",
   "id": "0693ee67",
   "metadata": {},
   "source": [
    "> With the following code block you can look through all dataset images or some subset of them"
   ]
  },
  {
   "cell_type": "code",
   "execution_count": 78,
   "id": "b57c64fd",
   "metadata": {},
   "outputs": [],
   "source": [
    "num = 0\n",
    "# read and show all images\n",
    "for imag in glob.iglob(f'{DATA_FOLDER}/*.jpg'):\n",
    "    #print(imag)\n",
    "    img = cv2.imread(imag)\n",
    "    if img is None:\n",
    "        print(\"An error has occured.\")\n",
    "        sys.exit(\"Could not read the image.\")\n",
    "    cv2.imshow(\"Display window\",img)  \n",
    "    cv2.waitKey(0)\n",
    "    cv2.destroyAllWindows()\n",
    "    # num += 1\n",
    "    # if num > 6:\n",
    "    #    break"
   ]
  },
  {
   "cell_type": "markdown",
   "id": "c099cd98",
   "metadata": {},
   "source": [
    "> Let's choose an image to use detection model on"
   ]
  },
  {
   "cell_type": "code",
   "execution_count": 83,
   "id": "6f10fbe1",
   "metadata": {},
   "outputs": [],
   "source": [
    "work_img_path = DATA_FOLDER + '/000816.jpg'"
   ]
  },
  {
   "cell_type": "code",
   "execution_count": 84,
   "id": "918e7833",
   "metadata": {},
   "outputs": [],
   "source": [
    "work_img = cv2.imread(work_img_path)\n",
    "if work_img is None:\n",
    "        print(\"An error has occured.\")\n",
    "        sys.exit(\"Could not read the image.\")"
   ]
  },
  {
   "cell_type": "markdown",
   "id": "dedc22e5",
   "metadata": {},
   "source": [
    "> We need to convert it to grayscale for algorithm to be able to work"
   ]
  },
  {
   "cell_type": "code",
   "execution_count": 85,
   "id": "b24927b1",
   "metadata": {},
   "outputs": [],
   "source": [
    "gray = cv2.cvtColor(work_img, cv2.COLOR_BGR2GRAY)"
   ]
  },
  {
   "cell_type": "markdown",
   "id": "7150dca6",
   "metadata": {},
   "source": [
    "> Face detection on grayscalre version of an image.\n",
    "  Then showing (highliting with a rectangular frame) on an original image \n",
    "  the area which represents the face in algorithm's opinion "
   ]
  },
  {
   "cell_type": "code",
   "execution_count": 86,
   "id": "c684f4b8",
   "metadata": {},
   "outputs": [],
   "source": [
    "face_cascade = cv2.CascadeClassifier('haarcascade_frontalface_default.xml')"
   ]
  },
  {
   "cell_type": "code",
   "execution_count": 87,
   "id": "e87846ef",
   "metadata": {},
   "outputs": [],
   "source": [
    "faces = face_cascade.detectMultiScale(gray, 1.1, 4)"
   ]
  },
  {
   "cell_type": "code",
   "execution_count": 92,
   "id": "29b61e13",
   "metadata": {},
   "outputs": [],
   "source": [
    "X = 0\n",
    "Y = 0\n",
    "W = 0\n",
    "H = 0\n",
    "for (x, y, w, h) in faces:\n",
    "    X = x\n",
    "    Y = y\n",
    "    W = w\n",
    "    H = h\n",
    "    cv2.rectangle(work_img, (x, y), (x+w, y+h), (255, 0, 0), 2)"
   ]
  },
  {
   "cell_type": "code",
   "execution_count": 93,
   "id": "d8c2e5f9",
   "metadata": {},
   "outputs": [
    {
     "data": {
      "text/plain": [
       "-1"
      ]
     },
     "execution_count": 93,
     "metadata": {},
     "output_type": "execute_result"
    }
   ],
   "source": [
    "cv2.imshow('img', work_img)\n",
    "cv2.waitKey()"
   ]
  },
  {
   "cell_type": "markdown",
   "id": "08faa59b",
   "metadata": {},
   "source": [
    "## Part 2. Crop image and get binary border image"
   ]
  },
  {
   "cell_type": "code",
   "execution_count": 94,
   "id": "a0cf5154",
   "metadata": {},
   "outputs": [],
   "source": [
    "crop_img = work_img[y:Y+H, x:X+W]"
   ]
  },
  {
   "cell_type": "code",
   "execution_count": 96,
   "id": "fa2ed872",
   "metadata": {},
   "outputs": [
    {
     "data": {
      "text/plain": [
       "13"
      ]
     },
     "execution_count": 96,
     "metadata": {},
     "output_type": "execute_result"
    }
   ],
   "source": [
    "cv2.imshow('img', crop_img)\n",
    "cv2.waitKey()"
   ]
  },
  {
   "cell_type": "code",
   "execution_count": null,
   "id": "0111a665",
   "metadata": {},
   "outputs": [],
   "source": []
  }
 ],
 "metadata": {
  "kernelspec": {
   "display_name": "Python 3",
   "language": "python",
   "name": "python3"
  },
  "language_info": {
   "codemirror_mode": {
    "name": "ipython",
    "version": 3
   },
   "file_extension": ".py",
   "mimetype": "text/x-python",
   "name": "python",
   "nbconvert_exporter": "python",
   "pygments_lexer": "ipython3",
   "version": "3.8.10"
  }
 },
 "nbformat": 4,
 "nbformat_minor": 5
}
